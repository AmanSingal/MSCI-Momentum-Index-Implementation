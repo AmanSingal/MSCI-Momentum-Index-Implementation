{
  "nbformat": 4,
  "nbformat_minor": 0,
  "metadata": {
    "colab": {
      "provenance": []
    },
    "kernelspec": {
      "name": "python3",
      "display_name": "Python 3"
    },
    "language_info": {
      "name": "python"
    }
  },
  "cells": [
    {
      "cell_type": "code",
      "execution_count": 1,
      "metadata": {
        "id": "3jujPrFvt4JX"
      },
      "outputs": [],
      "source": [
        "import pandas as pd\n",
        "import numpy as np\n",
        "import datetime\n",
        "import glob\n",
        "import os\n",
        "from google.colab import drive"
      ]
    },
    {
      "cell_type": "code",
      "source": [
        "# Mount Google Drive\n",
        "drive.mount('/content/drive')\n",
        "# Path to the directory containing folders for each year in Google Drive\n",
        "drive_dir = '/content/drive/MyDrive/bhavcopy/Dataset - 2018-2022/'\n",
        "# Get a list of all year folders\n",
        "year_folders = [folder for folder in os.listdir(drive_dir) if os.path.isdir(os.path.join(drive_dir, folder))]\n",
        "year_folders.sort() #['2018', '2019', '2020', '2021', '2022']"
      ],
      "metadata": {
        "colab": {
          "base_uri": "https://localhost:8080/"
        },
        "id": "F7hWk9KFKEZO",
        "outputId": "46f5ccf7-5399-42de-d390-75816bf1df39"
      },
      "execution_count": 64,
      "outputs": [
        {
          "output_type": "stream",
          "name": "stdout",
          "text": [
            "Drive already mounted at /content/drive; to attempt to forcibly remount, call drive.mount(\"/content/drive\", force_remount=True).\n"
          ]
        }
      ]
    },
    {
      "cell_type": "code",
      "source": [
        "file_set = set()\n",
        "from datetime import datetime\n",
        "for year_folder in year_folders:\n",
        "    # Get a list of all CSV files in the year's folder with the format cm.csv\n",
        "    file_list = glob.glob(drive_dir + year_folder + '/cm*.csv')\n",
        "  # Extract and convert dates from file names\n",
        "    file_dates = [datetime.strptime(os.path.basename(file_path)[2:-8], '%d%b%Y') for file_path in file_list]\n",
        "\n",
        "    # Sort files by date\n",
        "    file_list_sorted = [file_path for _, file_path in sorted(zip(file_dates, file_list))]\n",
        "\n",
        "    # Process each CSV file and adding to a list\n",
        "    for file_path in file_list_sorted:\n",
        "      file_set.add(file_path)\n",
        "month = {1:'JAN', 2:'FEB', 3:'MAR', 4:'APR', 5:'MAY', 6:'JUN', 7:'JUL', 8:'AUG', 9:'SEP', 10:'OCT', 11:'NOV', 12:'DEC'}"
      ],
      "metadata": {
        "id": "smT4_Of9WYH-"
      },
      "execution_count": 4,
      "outputs": []
    },
    {
      "cell_type": "code",
      "source": [
        "def file_format(s_date):\n",
        "  v_date = drive_dir + str(s_date.year) + '/cm'+ str(s_date.day).zfill(2) + month[s_date.month] + str(s_date.year) +'bhav.csv'\n",
        "  return v_date\n",
        "\n",
        "def valid_date(date1, date2):\n",
        "  start_file = \"\"\n",
        "  while(date1>date2):\n",
        "    start_file = file_format(date1)\n",
        "    if(start_file in file_set):\n",
        "      break\n",
        "    date1 = date1 - datetime.timedelta(days=1)\n",
        "  return start_file, date1"
      ],
      "metadata": {
        "id": "D6MroNibWkHH"
      },
      "execution_count": 5,
      "outputs": []
    },
    {
      "cell_type": "code",
      "source": [
        "# Initialize an empty DataFrame\n",
        "final_df = pd.DataFrame(columns=['SYMBOL'])\n",
        "############################################################################Function to calculate weekly returns################################################\n",
        "def calculate_weekly_return(file1, file2, week_number, date1, date2):\n",
        "    global final_df  # Use global final_df for modification\n",
        "\n",
        "    # Load CSV file into DataFrame\n",
        "    data1 = pd.read_csv(file1)\n",
        "    data2 = pd.read_csv(file2)\n",
        "\n",
        "    # Filter data to include only series 'EQ'\n",
        "    data1 = data1[data1['SERIES'] == 'EQ']\n",
        "    data2 = data2[data2['SERIES'] == 'EQ']\n",
        "\n",
        "    # Concatenate SYMBOL and SERIES to create a unique identifier\n",
        "    data1['UNIQUE_ID'] = data1['SYMBOL'] + '_' + data1['SERIES']\n",
        "    data2['UNIQUE_ID'] = data2['SYMBOL'] + '_' + data2['SERIES']\n",
        "\n",
        "    # Set 'UNIQUE_ID' as the index for both DataFrames\n",
        "    data1.set_index('UNIQUE_ID', inplace=True)\n",
        "    data2.set_index('UNIQUE_ID', inplace=True)\n",
        "\n",
        "    # Find common symbols\n",
        "    common_symbols = data1.index.intersection(data2.index)\n",
        "\n",
        "    # Iterate over common symbols\n",
        "    for symbol in common_symbols:\n",
        "        closing_price_file1 = data1.loc[symbol, 'CLOSE']\n",
        "        closing_price_file2 = data2.loc[symbol, 'CLOSE']\n",
        "        ret = (closing_price_file1 - closing_price_file2) * 100 / closing_price_file2\n",
        "        week_column_name = f'Week{week_number} ' + f'({date1}' + f' to{date2})'\n",
        "        # Check if symbol already in final_df\n",
        "        if symbol in final_df.index:\n",
        "            final_df.loc[symbol, week_column_name] = ret\n",
        "        else:\n",
        "            new_row = pd.DataFrame({week_column_name: [ret]}, index=[symbol])\n",
        "            final_df = pd.concat([final_df, new_row])\n",
        "\n",
        "    # Save to CSV\n",
        "    final_df.to_csv('weekly_return_values.csv', index=True)"
      ],
      "metadata": {
        "id": "pF2L-o-EW57H"
      },
      "execution_count": 6,
      "outputs": []
    },
    {
      "cell_type": "code",
      "source": [
        "from dateutil.relativedelta import relativedelta\n",
        "import datetime\n",
        "# Define the start and end dates for the backtesting period\n",
        "start_date = datetime.date(2018, 1, 14)\n",
        "end_date = datetime.date(2023, 1, 1)  # 4-year period\n",
        "\n",
        "i=1\n",
        "while(end_date >= start_date):\n",
        "  # print(\"Week: \",i)\n",
        "  prior_start_week = start_date - datetime.timedelta(days=7)\n",
        "  file1, date1= valid_date(start_date, prior_start_week)\n",
        "  # Calculate 1 week back\n",
        "  prior_to_prior_end_week = prior_start_week - datetime.timedelta(days=7)\n",
        "  file2, date2 = valid_date(prior_start_week, prior_to_prior_end_week )\n",
        "  # print(file1, file2)\n",
        "  calculate_weekly_return(file1, file2,i, date1, date2)\n",
        "  i = i + 1\n",
        "  start_date = start_date + datetime.timedelta(days=7)\n",
        "print(i)\n"
      ],
      "metadata": {
        "id": "XBOywxtQbw5D"
      },
      "execution_count": 9,
      "outputs": []
    },
    {
      "cell_type": "code",
      "source": [
        "rebalancing_date = datetime.date(2021, 2, 1) #7 Feb 2021 - 1st week of Feb'21\n",
        "One_month_before_reb_date = rebalancing_date - relativedelta(months=1)\n",
        "temp_date_one = One_month_before_reb_date - datetime.timedelta(days=7)\n",
        "price_file_one_month, closing_WeekDate_one_month= valid_date(One_month_before_reb_date, temp_date_one)\n",
        "\n",
        "Seven_month_before_reb_date = rebalancing_date - relativedelta(months=7)\n",
        "temp_date_two = Seven_month_before_reb_date - datetime.timedelta(days=7)\n",
        "price_file_seven_month, closing_WeekDate_seven_month= valid_date(Seven_month_before_reb_date, temp_date_two)\n",
        "\n",
        "Thirteen_month_before_reb_date = rebalancing_date - relativedelta(months=13)\n",
        "temp_date_three = Thirteen_month_before_reb_date - datetime.timedelta(days=7)\n",
        "price_file_thirteen_month, closing_WeekDate_thirteen_month= valid_date(Thirteen_month_before_reb_date, temp_date_three)\n"
      ],
      "metadata": {
        "id": "QCo-CPr8d3cl"
      },
      "execution_count": 13,
      "outputs": []
    },
    {
      "cell_type": "code",
      "source": [
        "print(price_file_one_month, closing_WeekDate_one_month)\n",
        "print(price_file_seven_month, closing_WeekDate_seven_month)\n",
        "print(price_file_thirteen_month, closing_WeekDate_thirteen_month)"
      ],
      "metadata": {
        "colab": {
          "base_uri": "https://localhost:8080/"
        },
        "id": "25yAqvaivAun",
        "outputId": "bd3c6d67-9691-4081-9ba6-963a8a818c7a"
      },
      "execution_count": 14,
      "outputs": [
        {
          "output_type": "stream",
          "name": "stdout",
          "text": [
            "/content/drive/MyDrive/bhavcopy/Dataset - 2018-2022/2021/cm01JAN2021bhav.csv 2021-01-01\n",
            "/content/drive/MyDrive/bhavcopy/Dataset - 2018-2022/2020/cm01JUL2020bhav.csv 2020-07-01\n",
            "/content/drive/MyDrive/bhavcopy/Dataset - 2018-2022/2020/cm01JAN2020bhav.csv 2020-01-01\n"
          ]
        }
      ]
    },
    {
      "cell_type": "code",
      "source": [
        "final_df_one = pd.DataFrame(columns=['SYMBOL', '6-mo Price Momentum', '12-mo Price Momentum'])\n",
        "list_of_valid_symbols = []  # which have at least 6-month price momentum history\n",
        "risk_free_rate = 0  # can be modified accordingly later\n",
        "\n",
        "def calculate_price_momentum_6mo(file1, file2):\n",
        "    global final_df_one  # Use global final_df for modification\n",
        "    global list_of_valid_symbols\n",
        "\n",
        "    # Load CSV file into DataFrame\n",
        "    data1 = pd.read_csv(file1)\n",
        "    data2 = pd.read_csv(file2)\n",
        "\n",
        "    # Filter data to include only series 'EQ'\n",
        "    data1 = data1[data1['SERIES'] == 'EQ']\n",
        "    data2 = data2[data2['SERIES'] == 'EQ']\n",
        "\n",
        "    # Concatenate SYMBOL and SERIES to create a unique identifier\n",
        "    data1['UNIQUE_ID'] = data1['SYMBOL'] + '_' + data1['SERIES']\n",
        "    data2['UNIQUE_ID'] = data2['SYMBOL'] + '_' + data2['SERIES']\n",
        "\n",
        "    # Set 'UNIQUE_ID' as the index for both DataFrames\n",
        "    data1.set_index('UNIQUE_ID', inplace=True)\n",
        "    data2.set_index('UNIQUE_ID', inplace=True)\n",
        "\n",
        "    # Find common symbols\n",
        "    common_symbols = data1.index.intersection(data2.index)\n",
        "    list_of_valid_symbols = common_symbols.tolist()\n",
        "\n",
        "    # Iterate over common symbols\n",
        "    for symbol in common_symbols:\n",
        "        closing_price_file1 = data1.loc[symbol, 'CLOSE']\n",
        "        closing_price_file2 = data2.loc[symbol, 'CLOSE']\n",
        "        ret = (closing_price_file1/closing_price_file2) - 1 - risk_free_rate\n",
        "        column_name = \"6-mo Price Momentum\"\n",
        "\n",
        "        if symbol in final_df_one['SYMBOL'].values:\n",
        "            final_df_one.loc[final_df_one['SYMBOL'] == symbol, column_name] = ret\n",
        "        else:\n",
        "            new_row = pd.DataFrame({'SYMBOL': [symbol], column_name: [ret]})\n",
        "            final_df_one = pd.concat([final_df_one, new_row], ignore_index=True)\n",
        "\n",
        "def calculate_price_momentum_12mo(file1, file2):\n",
        "    global final_df_one  # Use global final_df for modification\n",
        "\n",
        "    # Load CSV file into DataFrame\n",
        "    data1 = pd.read_csv(file1)\n",
        "    data2 = pd.read_csv(file2)\n",
        "\n",
        "    # Filter data to include only series 'EQ'\n",
        "    data1 = data1[data1['SERIES'] == 'EQ']\n",
        "    data2 = data2[data2['SERIES'] == 'EQ']\n",
        "\n",
        "    # Concatenate SYMBOL and SERIES to create a unique identifier\n",
        "    data1['UNIQUE_ID'] = data1['SYMBOL'] + '_' + data1['SERIES']\n",
        "    data2['UNIQUE_ID'] = data2['SYMBOL'] + '_' + data2['SERIES']\n",
        "\n",
        "    # Set 'UNIQUE_ID' as the index for both DataFrames\n",
        "    data1.set_index('UNIQUE_ID', inplace=True)\n",
        "    data2.set_index('UNIQUE_ID', inplace=True)\n",
        "\n",
        "    common_symbols = pd.Index(list_of_valid_symbols).intersection(data2.index)\n",
        "\n",
        "    # Iterate over common symbols\n",
        "    for symbol in common_symbols:\n",
        "        closing_price_file1 = data1.loc[symbol, 'CLOSE']\n",
        "        closing_price_file2 = data2.loc[symbol, 'CLOSE']\n",
        "        ret = (closing_price_file1/closing_price_file2) - 1 - risk_free_rate\n",
        "        column_name = \"12-mo Price Momentum\"\n",
        "\n",
        "        if symbol in final_df_one['SYMBOL'].values:\n",
        "            final_df_one.loc[final_df_one['SYMBOL'] == symbol, column_name] = ret\n",
        "        else:\n",
        "            new_row = pd.DataFrame({'SYMBOL': [symbol], column_name: [ret]})\n",
        "            final_df_one = pd.concat([final_df_one, new_row], ignore_index=True)\n",
        "    # # Save to CSV\n",
        "    # final_df_one.to_csv('weekly_return_values.csv', index=True)"
      ],
      "metadata": {
        "id": "9bPWOUU8vPMi"
      },
      "execution_count": 78,
      "outputs": []
    },
    {
      "cell_type": "code",
      "source": [
        "calculate_price_momentum_6mo(price_file_one_month, price_file_seven_month)\n",
        "calculate_price_momentum_12mo(price_file_one_month, price_file_thirteen_month)"
      ],
      "metadata": {
        "id": "osbXmjhmzV2u"
      },
      "execution_count": 79,
      "outputs": []
    },
    {
      "cell_type": "code",
      "source": [
        "print(final_df_one)"
      ],
      "metadata": {
        "colab": {
          "base_uri": "https://localhost:8080/"
        },
        "id": "7z5j9V8BzaL1",
        "outputId": "4d506fa3-3dfb-409c-93d2-4a20a806f2ca"
      },
      "execution_count": 80,
      "outputs": [
        {
          "output_type": "stream",
          "name": "stdout",
          "text": [
            "             SYMBOL  6-mo Price Momentum 12-mo Price Momentum\n",
            "0      20MICRONS_EQ             0.232308             0.118715\n",
            "1     21STCENMGM_EQ            -0.040541                  NaN\n",
            "2     3IINFOTECH_EQ             1.410714                2.375\n",
            "3        3MINDIA_EQ             0.135563            -0.027362\n",
            "4         3PLAND_EQ             0.736434             0.866667\n",
            "...             ...                  ...                  ...\n",
            "1314   ZODJRDMKJ_EQ             0.180894            -0.093604\n",
            "1315        ZOTA_EQ             0.250351            -0.055438\n",
            "1316       ZUARI_EQ            -0.019539             0.063587\n",
            "1317   ZUARIGLOB_EQ             0.358095             0.470103\n",
            "1318   ZYDUSWELL_EQ             0.616569             0.406937\n",
            "\n",
            "[1319 rows x 3 columns]\n"
          ]
        }
      ]
    },
    {
      "cell_type": "code",
      "source": [
        "import math\n",
        "def risk_adjusted_price_momentum():\n",
        "  weekly_return_file = drive_dir + 'weekly_return_values.csv'\n",
        "  df = pd.read_csv(weekly_return_file)\n",
        "  global list_of_valid_symbols\n",
        "  global final_df_one\n",
        "  no_of_weeks = 156\n",
        "  # Extract column headings\n",
        "  row_headings = df['SYMBOL']\n",
        "  column_headings = df.columns.tolist()\n",
        "  for symbol in list_of_valid_symbols:\n",
        "    # Get the row for the specified stock\n",
        "    stock_row = df[df['SYMBOL'] == symbol].reset_index(drop=True)\n",
        "    stock_row = stock_row.iloc[:, 1:no_of_weeks + 1]\n",
        "    # Calculate the standard deviation for the row\n",
        "    std_dev_weekly = stock_row.std(axis=1).values[0]\n",
        "    std_dev_annual = std_dev_weekly*math.sqrt(52)\n",
        "\n",
        "    column_name = \"annualized std deviation of weekly returns\"\n",
        "\n",
        "    # Check if the column exists in final_df_one, if not, create it\n",
        "    if column_name not in final_df_one.columns:\n",
        "        final_df_one[column_name] = pd.NA\n",
        "\n",
        "    # Update the standard deviation value for the symbol in final_df_one\n",
        "    final_df_one.loc[final_df_one['SYMBOL'] == symbol, column_name] = std_dev_annual\n",
        "\n",
        "risk_adjusted_price_momentum()"
      ],
      "metadata": {
        "id": "Cvb-ygSG0s9r"
      },
      "execution_count": 93,
      "outputs": []
    },
    {
      "cell_type": "code",
      "source": [
        "print(final_df_one)"
      ],
      "metadata": {
        "colab": {
          "base_uri": "https://localhost:8080/"
        },
        "id": "MrrjGzSmEKre",
        "outputId": "f438e7c0-d63e-4ec2-cef8-91ec77daef37"
      },
      "execution_count": 94,
      "outputs": [
        {
          "output_type": "stream",
          "name": "stdout",
          "text": [
            "             SYMBOL  6-mo Price Momentum 12-mo Price Momentum  \\\n",
            "0      20MICRONS_EQ             0.232308             0.118715   \n",
            "1     21STCENMGM_EQ            -0.040541                  NaN   \n",
            "2     3IINFOTECH_EQ             1.410714                2.375   \n",
            "3        3MINDIA_EQ             0.135563            -0.027362   \n",
            "4         3PLAND_EQ             0.736434             0.866667   \n",
            "...             ...                  ...                  ...   \n",
            "1314   ZODJRDMKJ_EQ             0.180894            -0.093604   \n",
            "1315        ZOTA_EQ             0.250351            -0.055438   \n",
            "1316       ZUARI_EQ            -0.019539             0.063587   \n",
            "1317   ZUARIGLOB_EQ             0.358095             0.470103   \n",
            "1318   ZYDUSWELL_EQ             0.616569             0.406937   \n",
            "\n",
            "     annualized std deviation of weekly returns  \n",
            "0                                     42.979822  \n",
            "1                                     31.358179  \n",
            "2                                     69.664465  \n",
            "3                                     30.219074  \n",
            "4                                     69.583058  \n",
            "...                                         ...  \n",
            "1314                                  75.193775  \n",
            "1315                                  32.300099  \n",
            "1316                                  48.595305  \n",
            "1317                                  63.273866  \n",
            "1318                                  35.889483  \n",
            "\n",
            "[1319 rows x 4 columns]\n"
          ]
        }
      ]
    },
    {
      "cell_type": "code",
      "source": [
        "final_df_one['6 mo Momentum/Std Dev'] = final_df_one['6-mo Price Momentum'] / final_df_one['annualized std deviation of weekly returns']\n",
        "final_df_one['12 mo Momentum/Std Dev'] = final_df_one['12-mo Price Momentum'] / final_df_one['annualized std deviation of weekly returns']"
      ],
      "metadata": {
        "id": "TXY7m_6jJ1w1"
      },
      "execution_count": 95,
      "outputs": []
    },
    {
      "cell_type": "code",
      "source": [
        "print(final_df_one)"
      ],
      "metadata": {
        "colab": {
          "base_uri": "https://localhost:8080/"
        },
        "id": "DNg-hgwqKEq_",
        "outputId": "70f14d75-5c22-4aec-a966-cc199337549a"
      },
      "execution_count": 96,
      "outputs": [
        {
          "output_type": "stream",
          "name": "stdout",
          "text": [
            "             SYMBOL  6-mo Price Momentum 12-mo Price Momentum  \\\n",
            "0      20MICRONS_EQ             0.232308             0.118715   \n",
            "1     21STCENMGM_EQ            -0.040541                  NaN   \n",
            "2     3IINFOTECH_EQ             1.410714                2.375   \n",
            "3        3MINDIA_EQ             0.135563            -0.027362   \n",
            "4         3PLAND_EQ             0.736434             0.866667   \n",
            "...             ...                  ...                  ...   \n",
            "1314   ZODJRDMKJ_EQ             0.180894            -0.093604   \n",
            "1315        ZOTA_EQ             0.250351            -0.055438   \n",
            "1316       ZUARI_EQ            -0.019539             0.063587   \n",
            "1317   ZUARIGLOB_EQ             0.358095             0.470103   \n",
            "1318   ZYDUSWELL_EQ             0.616569             0.406937   \n",
            "\n",
            "     annualized std deviation of weekly returns 6 mo Momentum/Std Dev  \\\n",
            "0                                     42.979822              0.005405   \n",
            "1                                     31.358179             -0.001293   \n",
            "2                                     69.664465               0.02025   \n",
            "3                                     30.219074              0.004486   \n",
            "4                                     69.583058              0.010584   \n",
            "...                                         ...                   ...   \n",
            "1314                                  75.193775              0.002406   \n",
            "1315                                  32.300099              0.007751   \n",
            "1316                                  48.595305             -0.000402   \n",
            "1317                                  63.273866              0.005659   \n",
            "1318                                  35.889483               0.01718   \n",
            "\n",
            "     12 mo Momentum/Std Dev  \n",
            "0                  0.002762  \n",
            "1                       NaN  \n",
            "2                  0.034092  \n",
            "3                 -0.000905  \n",
            "4                  0.012455  \n",
            "...                     ...  \n",
            "1314              -0.001245  \n",
            "1315              -0.001716  \n",
            "1316               0.001309  \n",
            "1317                0.00743  \n",
            "1318               0.011339  \n",
            "\n",
            "[1319 rows x 6 columns]\n"
          ]
        }
      ]
    },
    {
      "cell_type": "code",
      "source": [
        "# Calculate mean and standard deviation ignoring NaN values\n",
        "mean_6mo = final_df_one['6 mo Momentum/Std Dev'].mean(skipna=True)\n",
        "std_6mo = final_df_one['6 mo Momentum/Std Dev'].std(skipna=True)\n",
        "\n",
        "mean_12mo = final_df_one['12 mo Momentum/Std Dev'].mean(skipna=True)\n",
        "std_12mo = final_df_one['12 mo Momentum/Std Dev'].std(skipna=True)\n",
        "\n",
        "# Calculate z-scores\n",
        "final_df_one['6-mo Price Momentum Zscore'] = (final_df_one['6 mo Momentum/Std Dev'] - mean_6mo) / std_6mo\n",
        "final_df_one['12-mo Price Momentum Zscore'] = (final_df_one['12 mo Momentum/Std Dev'] - mean_12mo) / std_12mo"
      ],
      "metadata": {
        "id": "mImwMQ-9KVdF"
      },
      "execution_count": 99,
      "outputs": []
    },
    {
      "cell_type": "code",
      "source": [
        "print(final_df_one)"
      ],
      "metadata": {
        "colab": {
          "base_uri": "https://localhost:8080/"
        },
        "id": "f-FxclUtM7dm",
        "outputId": "1b24d4dc-d116-4842-c91e-f540e365363a"
      },
      "execution_count": 100,
      "outputs": [
        {
          "output_type": "stream",
          "name": "stdout",
          "text": [
            "             SYMBOL  6-mo Price Momentum 12-mo Price Momentum  \\\n",
            "0      20MICRONS_EQ             0.232308             0.118715   \n",
            "1     21STCENMGM_EQ            -0.040541                  NaN   \n",
            "2     3IINFOTECH_EQ             1.410714                2.375   \n",
            "3        3MINDIA_EQ             0.135563            -0.027362   \n",
            "4         3PLAND_EQ             0.736434             0.866667   \n",
            "...             ...                  ...                  ...   \n",
            "1314   ZODJRDMKJ_EQ             0.180894            -0.093604   \n",
            "1315        ZOTA_EQ             0.250351            -0.055438   \n",
            "1316       ZUARI_EQ            -0.019539             0.063587   \n",
            "1317   ZUARIGLOB_EQ             0.358095             0.470103   \n",
            "1318   ZYDUSWELL_EQ             0.616569             0.406937   \n",
            "\n",
            "     annualized std deviation of weekly returns 6 mo Momentum/Std Dev  \\\n",
            "0                                     42.979822              0.005405   \n",
            "1                                     31.358179             -0.001293   \n",
            "2                                     69.664465               0.02025   \n",
            "3                                     30.219074              0.004486   \n",
            "4                                     69.583058              0.010584   \n",
            "...                                         ...                   ...   \n",
            "1314                                  75.193775              0.002406   \n",
            "1315                                  32.300099              0.007751   \n",
            "1316                                  48.595305             -0.000402   \n",
            "1317                                  63.273866              0.005659   \n",
            "1318                                  35.889483               0.01718   \n",
            "\n",
            "     12 mo Momentum/Std Dev 6-mo Price Momentum Zscore  \\\n",
            "0                  0.002762                  -0.376112   \n",
            "1                       NaN                  -1.099827   \n",
            "2                  0.034092                   1.227922   \n",
            "3                 -0.000905                  -0.475416   \n",
            "4                  0.012455                   0.183431   \n",
            "...                     ...                        ...   \n",
            "1314              -0.001245                  -0.700195   \n",
            "1315              -0.001716                  -0.122651   \n",
            "1316               0.001309                  -1.003581   \n",
            "1317                0.00743                  -0.348623   \n",
            "1318               0.011339                   0.896154   \n",
            "\n",
            "     12-mo Price Momentum Zscore  \n",
            "0                      -0.271745  \n",
            "1                            NaN  \n",
            "2                       2.520902  \n",
            "3                      -0.598659  \n",
            "4                       0.592262  \n",
            "...                          ...  \n",
            "1314                   -0.628911  \n",
            "1315                   -0.670939  \n",
            "1316                   -0.401315  \n",
            "1317                    0.144306  \n",
            "1318                    0.492739  \n",
            "\n",
            "[1319 rows x 8 columns]\n"
          ]
        }
      ]
    },
    {
      "cell_type": "code",
      "source": [
        "#Calculating single Momentum combined score (C)\n",
        "weight_6mo = 0.5 #Can be customized later\n",
        "weight_12mo = 0.5 #Can be customized later\n",
        "final_df_one['C'] =  final_df_one['6-mo Price Momentum Zscore']*weight_6mo + final_df_one['12-mo Price Momentum Zscore'].fillna(0)*weight_12mo"
      ],
      "metadata": {
        "id": "ezP5e16cNGXx"
      },
      "execution_count": 104,
      "outputs": []
    },
    {
      "cell_type": "code",
      "source": [
        "print(final_df_one)"
      ],
      "metadata": {
        "colab": {
          "base_uri": "https://localhost:8080/"
        },
        "id": "Xq8EVPCNN21-",
        "outputId": "69444a52-f95a-4746-b7f2-a89dc859b9ea"
      },
      "execution_count": 105,
      "outputs": [
        {
          "output_type": "stream",
          "name": "stdout",
          "text": [
            "             SYMBOL  6-mo Price Momentum 12-mo Price Momentum  \\\n",
            "0      20MICRONS_EQ             0.232308             0.118715   \n",
            "1     21STCENMGM_EQ            -0.040541                  NaN   \n",
            "2     3IINFOTECH_EQ             1.410714                2.375   \n",
            "3        3MINDIA_EQ             0.135563            -0.027362   \n",
            "4         3PLAND_EQ             0.736434             0.866667   \n",
            "...             ...                  ...                  ...   \n",
            "1314   ZODJRDMKJ_EQ             0.180894            -0.093604   \n",
            "1315        ZOTA_EQ             0.250351            -0.055438   \n",
            "1316       ZUARI_EQ            -0.019539             0.063587   \n",
            "1317   ZUARIGLOB_EQ             0.358095             0.470103   \n",
            "1318   ZYDUSWELL_EQ             0.616569             0.406937   \n",
            "\n",
            "     annualized std deviation of weekly returns 6 mo Momentum/Std Dev  \\\n",
            "0                                     42.979822              0.005405   \n",
            "1                                     31.358179             -0.001293   \n",
            "2                                     69.664465               0.02025   \n",
            "3                                     30.219074              0.004486   \n",
            "4                                     69.583058              0.010584   \n",
            "...                                         ...                   ...   \n",
            "1314                                  75.193775              0.002406   \n",
            "1315                                  32.300099              0.007751   \n",
            "1316                                  48.595305             -0.000402   \n",
            "1317                                  63.273866              0.005659   \n",
            "1318                                  35.889483               0.01718   \n",
            "\n",
            "     12 mo Momentum/Std Dev 6-mo Price Momentum Zscore  \\\n",
            "0                  0.002762                  -0.376112   \n",
            "1                       NaN                  -1.099827   \n",
            "2                  0.034092                   1.227922   \n",
            "3                 -0.000905                  -0.475416   \n",
            "4                  0.012455                   0.183431   \n",
            "...                     ...                        ...   \n",
            "1314              -0.001245                  -0.700195   \n",
            "1315              -0.001716                  -0.122651   \n",
            "1316               0.001309                  -1.003581   \n",
            "1317                0.00743                  -0.348623   \n",
            "1318               0.011339                   0.896154   \n",
            "\n",
            "     12-mo Price Momentum Zscore         C  \n",
            "0                      -0.271745 -0.323929  \n",
            "1                            NaN -0.549913  \n",
            "2                       2.520902  1.874412  \n",
            "3                      -0.598659 -0.537038  \n",
            "4                       0.592262  0.387846  \n",
            "...                          ...       ...  \n",
            "1314                   -0.628911 -0.664553  \n",
            "1315                   -0.670939 -0.396795  \n",
            "1316                   -0.401315 -0.702448  \n",
            "1317                    0.144306 -0.102159  \n",
            "1318                    0.492739  0.694447  \n",
            "\n",
            "[1319 rows x 9 columns]\n"
          ]
        }
      ]
    },
    {
      "cell_type": "code",
      "source": [
        "# Calculating standardized momentum Z-score(Z)\n",
        "mean_C_val = final_df_one['C'].mean(skipna=True)\n",
        "std_C_val = final_df_one['C'].std(skipna=True)\n",
        "\n",
        "# Calculate z-scores using pandas\n",
        "final_df_one['Z'] = (final_df_one['C'] - mean_C_val) / std_C_val\n",
        "\n",
        "# Winsorizing Z-score to limits of +/-3\n",
        "final_df_one['Z'] = final_df_one['Z'].clip(-3, 3)\n",
        "\n",
        "final_df_one['momentum score'] = np.where(final_df_one['Z'] >= 0, 1 + final_df_one['Z'], 1 / (1 - final_df_one['Z']))"
      ],
      "metadata": {
        "id": "si1vpSuBPGKX"
      },
      "execution_count": 115,
      "outputs": []
    },
    {
      "cell_type": "code",
      "source": [
        "print(final_df_one)"
      ],
      "metadata": {
        "colab": {
          "base_uri": "https://localhost:8080/"
        },
        "id": "lfa2TIibQocJ",
        "outputId": "6c650b61-abfd-4db9-c0aa-dfdefc31ca6c"
      },
      "execution_count": 116,
      "outputs": [
        {
          "output_type": "stream",
          "name": "stdout",
          "text": [
            "             SYMBOL  6-mo Price Momentum 12-mo Price Momentum  \\\n",
            "0      20MICRONS_EQ             0.232308             0.118715   \n",
            "1     21STCENMGM_EQ            -0.040541                  NaN   \n",
            "2     3IINFOTECH_EQ             1.410714                2.375   \n",
            "3        3MINDIA_EQ             0.135563            -0.027362   \n",
            "4         3PLAND_EQ             0.736434             0.866667   \n",
            "...             ...                  ...                  ...   \n",
            "1314   ZODJRDMKJ_EQ             0.180894            -0.093604   \n",
            "1315        ZOTA_EQ             0.250351            -0.055438   \n",
            "1316       ZUARI_EQ            -0.019539             0.063587   \n",
            "1317   ZUARIGLOB_EQ             0.358095             0.470103   \n",
            "1318   ZYDUSWELL_EQ             0.616569             0.406937   \n",
            "\n",
            "     annualized std deviation of weekly returns 6 mo Momentum/Std Dev  \\\n",
            "0                                     42.979822              0.005405   \n",
            "1                                     31.358179             -0.001293   \n",
            "2                                     69.664465               0.02025   \n",
            "3                                     30.219074              0.004486   \n",
            "4                                     69.583058              0.010584   \n",
            "...                                         ...                   ...   \n",
            "1314                                  75.193775              0.002406   \n",
            "1315                                  32.300099              0.007751   \n",
            "1316                                  48.595305             -0.000402   \n",
            "1317                                  63.273866              0.005659   \n",
            "1318                                  35.889483               0.01718   \n",
            "\n",
            "     12 mo Momentum/Std Dev 6-mo Price Momentum Zscore  \\\n",
            "0                  0.002762                  -0.376112   \n",
            "1                       NaN                  -1.099827   \n",
            "2                  0.034092                   1.227922   \n",
            "3                 -0.000905                  -0.475416   \n",
            "4                  0.012455                   0.183431   \n",
            "...                     ...                        ...   \n",
            "1314              -0.001245                  -0.700195   \n",
            "1315              -0.001716                  -0.122651   \n",
            "1316               0.001309                  -1.003581   \n",
            "1317                0.00743                  -0.348623   \n",
            "1318               0.011339                   0.896154   \n",
            "\n",
            "     12-mo Price Momentum Zscore         C         Z momentum score  \n",
            "0                      -0.271745 -0.323929 -0.362746       0.733812  \n",
            "1                            NaN -0.549913 -0.615812       0.618884  \n",
            "2                       2.520902  1.874412  2.099031       3.099031  \n",
            "3                      -0.598659 -0.537038 -0.601393       0.624456  \n",
            "4                       0.592262  0.387846  0.434323       1.434323  \n",
            "...                          ...       ...       ...            ...  \n",
            "1314                   -0.628911 -0.664553 -0.744189       0.573332  \n",
            "1315                   -0.670939 -0.396795 -0.444345       0.692356  \n",
            "1316                   -0.401315 -0.702448 -0.786625       0.559715  \n",
            "1317                    0.144306 -0.102159 -0.114401       0.897343  \n",
            "1318                    0.492739  0.694447  0.777665       1.777665  \n",
            "\n",
            "[1319 rows x 11 columns]\n"
          ]
        }
      ]
    },
    {
      "cell_type": "code",
      "source": [
        "\n",
        "data1 = pd.read_csv(price_file_one_month)\n",
        "# Filter data to include only series 'EQ'\n",
        "data1 = data1[data1['SERIES'] == 'EQ']\n",
        "# Concatenate SYMBOL and SERIES to create a unique identifier\n",
        "data1['SYMBOL'] = data1['SYMBOL'] + '_' + data1['SERIES']\n",
        "# Set 'SYMBOL' as the index for both DataFrames\n",
        "data1.set_index('SYMBOL', inplace=True)\n",
        "\n",
        "# Sort final_df_one by 'Z' (descending) and then by 'TOTTRDVAL' (descending)\n",
        "final_df_one_sorted = final_df_one.merge(data1, on='SYMBOL')\n",
        "final_df_one_sorted = final_df_one_sorted[['SYMBOL', 'momentum score', 'TOTTRDVAL']].sort_values(by=['momentum score', 'TOTTRDVAL'], ascending=[False, False]).reset_index(drop=True)\n",
        "\n",
        "# Create a copy of final_df_one_sorted with only 'SYMBOL', 'Z', and 'TOTTRDQTY' columns\n",
        "final_stock_rankings = final_df_one_sorted[['SYMBOL', 'momentum score', 'TOTTRDVAL']].copy()\n",
        "\n",
        "# Print final_df_two to verify\n",
        "print(final_stock_rankings)"
      ],
      "metadata": {
        "colab": {
          "base_uri": "https://localhost:8080/"
        },
        "id": "whhWjlJZRrEl",
        "outputId": "4f18242d-3692-4610-87c9-f1762112115c"
      },
      "execution_count": 118,
      "outputs": [
        {
          "output_type": "stream",
          "name": "stdout",
          "text": [
            "             SYMBOL momentum score     TOTTRDVAL\n",
            "0      INDIAMART_EQ              4  3.672267e+09\n",
            "1         MASTEK_EQ              4  5.733329e+08\n",
            "2     ADANIGREEN_EQ              4  3.169779e+08\n",
            "3          TANLA_EQ              4  2.690557e+08\n",
            "4           CDSL_EQ              4  2.236121e+08\n",
            "...             ...            ...           ...\n",
            "1314     JUMPNET_EQ       0.329574  2.218554e+07\n",
            "1315     MAJESCO_EQ       0.312385  1.394496e+05\n",
            "1316   EICHERMOT_EQ       0.301203  2.318286e+09\n",
            "1317    AXISGOLD_EQ           0.25  4.616323e+06\n",
            "1318   AXISNIFTY_EQ           0.25  5.897292e+05\n",
            "\n",
            "[1319 rows x 3 columns]\n"
          ]
        }
      ]
    },
    {
      "cell_type": "code",
      "source": [
        "final_stock_rankings.to_csv('final_stock_rankings.csv', index=True)"
      ],
      "metadata": {
        "id": "MnOV1Y9eVGYt"
      },
      "execution_count": 119,
      "outputs": []
    },
    {
      "cell_type": "code",
      "source": [],
      "metadata": {
        "id": "TRXzUQU6WqYr"
      },
      "execution_count": null,
      "outputs": []
    }
  ]
}